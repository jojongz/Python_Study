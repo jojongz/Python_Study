{
 "cells": [
  {
   "cell_type": "code",
   "execution_count": 2,
   "id": "8c6bb96f",
   "metadata": {},
   "outputs": [],
   "source": [
    "# 변수의 내용을 나중에 작성하고자 하는 경우\n",
    "def add():\n",
    "    pass\n",
    "\n",
    "def sub():\n",
    "    pass\n"
   ]
  },
  {
   "cell_type": "code",
   "execution_count": 4,
   "id": "ee5ba19a",
   "metadata": {},
   "outputs": [
    {
     "ename": "NameError",
     "evalue": "name 'get_area' is not defined",
     "output_type": "error",
     "traceback": [
      "\u001b[1;31m---------------------------------------------------------------------------\u001b[0m",
      "\u001b[1;31mNameError\u001b[0m                                 Traceback (most recent call last)",
      "Input \u001b[1;32mIn [4]\u001b[0m, in \u001b[0;36m<cell line: 2>\u001b[1;34m()\u001b[0m\n\u001b[0;32m      1\u001b[0m \u001b[38;5;66;03m# 함수의 실행 순서\u001b[39;00m\n\u001b[1;32m----> 2\u001b[0m result \u001b[38;5;241m=\u001b[39m \u001b[43mget_area\u001b[49m(\u001b[38;5;241m3\u001b[39m)\n\u001b[0;32m      3\u001b[0m \u001b[38;5;28mprint\u001b[39m(\u001b[38;5;124m\"\u001b[39m\u001b[38;5;124m반지름이 3인 원의 면적 = \u001b[39m\u001b[38;5;124m\"\u001b[39m, result)\n\u001b[0;32m      5\u001b[0m \u001b[38;5;28;01mdef\u001b[39;00m \u001b[38;5;21mget_area\u001b[39m(radius):\n",
      "\u001b[1;31mNameError\u001b[0m: name 'get_area' is not defined"
     ]
    }
   ],
   "source": [
    "# 함수의 실행 순서 - 함수 선언이 아래에 있어서 오류 발생\n",
    "result = get_area(3)\n",
    "print(\"반지름이 3인 원의 면적 = \", result)\n",
    "\n",
    "def get_area(radius):\n",
    "    area = 3.14 * radius ** 2\n",
    "    return area"
   ]
  },
  {
   "cell_type": "code",
   "execution_count": 9,
   "id": "49d9330c",
   "metadata": {},
   "outputs": [
    {
     "name": "stdout",
     "output_type": "stream",
     "text": [
      "반지름이 3인 원의 면적 =  28.26\n"
     ]
    }
   ],
   "source": [
    "# 함수의 실행 순서 - 먼저 호출하는 곳에 함수를 선언하고\n",
    "# 선언한 함수의 실행은 맨 아래에서 \n",
    "\n",
    "def main():\n",
    "    result = get_area(3)\n",
    "    print(\"반지름이 3인 원의 면적 = \", result)\n",
    "\n",
    "def get_area(radius):\n",
    "    area = 3.14 * radius ** 2\n",
    "    return area\n",
    "\n",
    "\n",
    "main()"
   ]
  },
  {
   "cell_type": "code",
   "execution_count": 15,
   "id": "60f309bc",
   "metadata": {},
   "outputs": [
    {
     "name": "stdout",
     "output_type": "stream",
     "text": [
      "20cm 피자 2개의 면적 : 2512.0\n",
      "30cm 피자 1개의 면적 : 2826.0\n"
     ]
    }
   ],
   "source": [
    "# 피자의 면적을 비교하는 프로그램\n",
    "def main():\n",
    "    print(\"20cm 피자 2개의 면적 :\", get_area(20) + get_area(20))\n",
    "    print(\"30cm 피자 1개의 면적 :\", get_area(30))\n",
    "    \n",
    "# 원의 면적 계산\n",
    "def get_area(radius):\n",
    "    if radius > 0:\n",
    "        area = 3.14 * radius ** 2\n",
    "    else:\n",
    "        area = 0\n",
    "    return area\n",
    "\n",
    "main()\n",
    "\n",
    "    "
   ]
  },
  {
   "cell_type": "code",
   "execution_count": 1,
   "id": "4089f1a5",
   "metadata": {},
   "outputs": [
    {
     "ename": "Terminator",
     "evalue": "",
     "output_type": "error",
     "traceback": [
      "\u001b[1;31m---------------------------------------------------------------------------\u001b[0m",
      "\u001b[1;31mTerminator\u001b[0m                                Traceback (most recent call last)",
      "Input \u001b[1;32mIn [1]\u001b[0m, in \u001b[0;36m<cell line: 20>\u001b[1;34m()\u001b[0m\n\u001b[0;32m     17\u001b[0m square(\u001b[38;5;241m100\u001b[39m)\n\u001b[0;32m     19\u001b[0m turtle\u001b[38;5;241m.\u001b[39mmainloop()\n\u001b[1;32m---> 20\u001b[0m \u001b[43mturtle\u001b[49m\u001b[38;5;241;43m.\u001b[39;49m\u001b[43mbye\u001b[49m\u001b[43m(\u001b[49m\u001b[43m)\u001b[49m\n",
      "File \u001b[1;32m<string>:5\u001b[0m, in \u001b[0;36mbye\u001b[1;34m()\u001b[0m\n",
      "\u001b[1;31mTerminator\u001b[0m: "
     ]
    }
   ],
   "source": [
    "import turtle\n",
    "\n",
    "t = turtle.Turtle()\n",
    "t.shape(\"turtle\")\n",
    "\n",
    "def square(length):\n",
    "  t.down()\n",
    "  for i in range(4):\n",
    "    t.forward(length)\n",
    "    t.left(90)\n",
    "  t.up()\n",
    "\n",
    "square(100)\n",
    "t.forward(120)\n",
    "square(100)\n",
    "t.forward(120)\n",
    "square(100)\n",
    "\n",
    "turtle.mainloop()\n",
    "turtle.bye()"
   ]
  },
  {
   "cell_type": "code",
   "execution_count": 1,
   "id": "29e2c815",
   "metadata": {
    "scrolled": true
   },
   "outputs": [],
   "source": [
    "# 나무 그리기\n",
    "import turtle\n",
    "\n",
    "def drawTree(branch, t):\n",
    "    if branch > 5:\n",
    "        t.forward(branch)\n",
    "        t.right(20)\n",
    "        drawTree(branch-15, t)\n",
    "        t.left(40)\n",
    "        drawTree(branch-15, t)\n",
    "        t.right(20)\n",
    "        t.backward(branch)\n",
    "        \n",
    "def main():\n",
    "    t = turtle.Turtle()\n",
    "    window = turtle.Screen()\n",
    "    t.left(90)\n",
    "    t.up()\n",
    "    t.backward(200)\n",
    "    t.down()\n",
    "    t.color(\"green\")\n",
    "    drawTree(100, t)\n",
    "    window.exitonclick()\n",
    "    \n",
    "main()"
   ]
  }
 ],
 "metadata": {
  "kernelspec": {
   "display_name": "Python 3 (ipykernel)",
   "language": "python",
   "name": "python3"
  },
  "language_info": {
   "codemirror_mode": {
    "name": "ipython",
    "version": 3
   },
   "file_extension": ".py",
   "mimetype": "text/x-python",
   "name": "python",
   "nbconvert_exporter": "python",
   "pygments_lexer": "ipython3",
   "version": "3.9.12"
  }
 },
 "nbformat": 4,
 "nbformat_minor": 5
}
