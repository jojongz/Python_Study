{
 "cells": [
  {
   "cell_type": "code",
   "execution_count": 1,
   "id": "852d68f4",
   "metadata": {},
   "outputs": [],
   "source": [
    "a = 3\n",
    "b = 5"
   ]
  },
  {
   "cell_type": "markdown",
   "id": "13d752c2",
   "metadata": {},
   "source": [
    "$$Cov(x,y) = \\begin{bmatrix}\\sigma_x^2 & Cov(x,y) \\\\Cov(x,y) & \\sigma_y^2 \\end{bmatrix}$$"
   ]
  },
  {
   "cell_type": "markdown",
   "id": "ed772b7b",
   "metadata": {},
   "source": [
    "# 제목 : 주피터노트북"
   ]
  },
  {
   "cell_type": "markdown",
   "id": "7448a6dc",
   "metadata": {},
   "source": [
    "### 발표자 : 김종천"
   ]
  },
  {
   "cell_type": "code",
   "execution_count": 2,
   "id": "1068336b",
   "metadata": {},
   "outputs": [
    {
     "name": "stdout",
     "output_type": "stream",
     "text": [
      "8\n",
      "2\n"
     ]
    }
   ],
   "source": [
    "print(a + b)\n",
    "print(b - a)"
   ]
  }
 ],
 "metadata": {
  "kernelspec": {
   "display_name": "Python 3 (ipykernel)",
   "language": "python",
   "name": "python3"
  },
  "language_info": {
   "codemirror_mode": {
    "name": "ipython",
    "version": 3
   },
   "file_extension": ".py",
   "mimetype": "text/x-python",
   "name": "python",
   "nbconvert_exporter": "python",
   "pygments_lexer": "ipython3",
   "version": "3.9.12"
  }
 },
 "nbformat": 4,
 "nbformat_minor": 5
}
