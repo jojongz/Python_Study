{
 "cells": [
  {
   "cell_type": "code",
   "execution_count": 4,
   "id": "8c6bb96f",
   "metadata": {},
   "outputs": [
    {
     "name": "stdout",
     "output_type": "stream",
     "text": [
      "원하는 단은?: 10\n",
      "10 * 1 = 10\n",
      "10 * 2 = 20\n",
      "10 * 3 = 30\n",
      "10 * 4 = 40\n",
      "10 * 5 = 50\n",
      "10 * 6 = 60\n",
      "10 * 7 = 70\n",
      "10 * 8 = 80\n",
      "10 * 9 = 90\n"
     ]
    }
   ],
   "source": [
    "# while 문을 사용한 구구셈\n",
    "dan = int(input(\"원하는 단은?: \"))\n",
    "i = 1\n",
    "\n",
    "while i <= 9:\n",
    "    print(\"%d * %d = %d\" %(dan, i, dan*i))\n",
    "    i = i + 1"
   ]
  },
  {
   "cell_type": "code",
   "execution_count": 13,
   "id": "f6fabbb7",
   "metadata": {},
   "outputs": [
    {
     "name": "stdout",
     "output_type": "stream",
     "text": [
      "1부터 100 사이의 숫자를 맞추세요\n",
      "숫자를 입력하세요:10\n",
      "너무 낮음!\n",
      "숫자를 입력하세요:30\n",
      "너무 낮음!\n",
      "숫자를 입력하세요:50\n",
      "너무 낮음!\n",
      "숫자를 입력하세요:60\n",
      "너무 낮음!\n",
      "숫자를 입력하세요:70\n",
      "너무 낮음!\n",
      "숫자를 입력하세요:85\n",
      "너무 낮음!\n",
      "숫자를 입력하세요:90\n",
      "너무 높음!\n",
      "숫자를 입력하세요:87\n",
      "너무 낮음!\n",
      "숫자를 입력하세요:89\n",
      "축하합니다. 시도횟수= 9\n"
     ]
    }
   ],
   "source": [
    "# 숫자 맞추기 게임\n",
    "import random\n",
    "\n",
    "tries = 0\n",
    "guess = 0\n",
    "answer = random.randint(1, 100)\n",
    "\n",
    "print(\"1부터 100 사이의 숫자를 맞추세요\")\n",
    "\n",
    "while guess != answer:\n",
    "    guess = int(input(\"숫자를 입력하세요:\"))\n",
    "    tries = tries + 1\n",
    "    if guess < answer:\n",
    "        print(\"너무 낮음!\")\n",
    "    elif guess > answer:\n",
    "        print(\"너무 높음!\")\n",
    "    \n",
    "        \n",
    "if guess == answer:\n",
    "    print(\"축하합니다. 시도횟수=\", tries)\n",
    "else:\n",
    "    print(\"정답은\", answer)\n",
    "        \n",
    "        \n",
    "        \n",
    "        \n",
    "        "
   ]
  }
 ],
 "metadata": {
  "kernelspec": {
   "display_name": "Python 3 (ipykernel)",
   "language": "python",
   "name": "python3"
  },
  "language_info": {
   "codemirror_mode": {
    "name": "ipython",
    "version": 3
   },
   "file_extension": ".py",
   "mimetype": "text/x-python",
   "name": "python",
   "nbconvert_exporter": "python",
   "pygments_lexer": "ipython3",
   "version": "3.9.12"
  }
 },
 "nbformat": 4,
 "nbformat_minor": 5
}
