{
 "cells": [
  {
   "cell_type": "markdown",
   "id": "e4367c0e",
   "metadata": {},
   "source": [
    "## 입력과 출력"
   ]
  },
  {
   "cell_type": "code",
   "execution_count": 1,
   "id": "42e89bd5",
   "metadata": {},
   "outputs": [
    {
     "ename": "NameError",
     "evalue": "name 'name' is not defined",
     "output_type": "error",
     "traceback": [
      "\u001b[1;31m---------------------------------------------------------------------------\u001b[0m",
      "\u001b[1;31mNameError\u001b[0m                                 Traceback (most recent call last)",
      "Input \u001b[1;32mIn [1]\u001b[0m, in \u001b[0;36m<cell line: 2>\u001b[1;34m()\u001b[0m\n\u001b[0;32m      1\u001b[0m \u001b[38;5;66;03m# name = input(\"이름을 입력하세요 : \")\u001b[39;00m\n\u001b[1;32m----> 2\u001b[0m \u001b[38;5;28mprint\u001b[39m(\u001b[43mname\u001b[49m, \u001b[38;5;124m\"\u001b[39m\u001b[38;5;124m씨. 안녕하세요?\u001b[39m\u001b[38;5;124m\"\u001b[39m)\n\u001b[0;32m      3\u001b[0m \u001b[38;5;28mprint\u001b[39m(\u001b[38;5;124m\"\u001b[39m\u001b[38;5;124m파이썬에 오신 것을 환영합니다.\u001b[39m\u001b[38;5;124m\"\u001b[39m)\n",
      "\u001b[1;31mNameError\u001b[0m: name 'name' is not defined"
     ]
    }
   ],
   "source": [
    "# name = input(\"이름을 입력하세요 : \")\n",
    "print(name, \"씨. 안녕하세요?\")\n",
    "print(\"파이썬에 오신 것을 환영합니다.\")"
   ]
  },
  {
   "cell_type": "code",
   "execution_count": null,
   "id": "ea39bddb",
   "metadata": {},
   "outputs": [],
   "source": [
    "s1 = input(\"첫 번째 정수를 입력하세요:\")\n",
    "x = int(s1)\n",
    "s2 = input(\"두 번째 정수를 입력하세요:\")\n",
    "y = int(s2)\n",
    "sum = x + y\n",
    "print(\"합은 \", sum)"
   ]
  },
  {
   "cell_type": "code",
   "execution_count": null,
   "id": "44388d7a",
   "metadata": {
    "scrolled": true
   },
   "outputs": [],
   "source": [
    "# 부동 소수점 사용\n",
    "# 평수를 구하는 방법\n",
    "# eval은 데이터에 따라 실수 또는 정수로 변환\n",
    "SQMETER_PER_P = 3.3\n",
    "\n",
    "area = float(input(\"면적(제곱미터):\"))\n",
    "py = area / SQMETER_PER_P\n",
    "print(py, \"평\")"
   ]
  },
  {
   "cell_type": "code",
   "execution_count": null,
   "id": "7867fef8",
   "metadata": {},
   "outputs": [],
   "source": [
    "# 형식화된 출력\n",
    "SQMETER_PER_P = 3.3\n",
    "\n",
    "area = float(input(\"면적(제곱미터):\"))\n",
    "py = area / SQMETER_PER_P\n",
    "print(\"%.2f\" % py, \"평\")"
   ]
  },
  {
   "cell_type": "code",
   "execution_count": null,
   "id": "7861da43",
   "metadata": {},
   "outputs": [],
   "source": [
    "# 대화형 프로그램\n",
    "print(\"안녕하세요\")\n",
    "name = input(\"이름이 어떻게 되시나요?\")\n",
    "print(\"만나서 반갑습니다.\" + name + \"씨\")\n",
    "print(\"이름의 길이는 다음과 같군요:\", len(name))\n",
    "\n",
    "age = int(input(\"나이가 어떻게 되나요?\"))\n",
    "print(\"내년이면\" + str(age+1) + \"이 되시는군요.\")\n"
   ]
  },
  {
   "cell_type": "code",
   "execution_count": 8,
   "id": "116bb3e9",
   "metadata": {},
   "outputs": [
    {
     "name": "stdout",
     "output_type": "stream",
     "text": [
      "몸무게 kg단위를 입력하세요 :90\n",
      "키를 입력하시오 :176\n",
      "당신의 BMi= 0.00290547520661157\n"
     ]
    }
   ],
   "source": [
    "# BMI 계산하기\n",
    "# BMI < 18.50 저체중\n",
    "# BMI 18.50 - 24.99 표준\n",
    "# BMI 24.99 - 29.99 과체중\n",
    "# BMI > 비만\n",
    "\n",
    "weight = float(input(\"몸무게 kg단위를 입력하세요 :\"))\n",
    "height = float(input(\"키를 입력하시오 :\"))\n",
    "\n",
    "bmi = (weight / (height**2))\n",
    "print(\"당신의 BMi=\", bmi)\n"
   ]
  },
  {
   "cell_type": "code",
   "execution_count": 5,
   "id": "79cbeff1",
   "metadata": {},
   "outputs": [
    {
     "name": "stdout",
     "output_type": "stream",
     "text": [
      "반지름 입력하세요: 5\n",
      "구의 부피 =    523.60\n"
     ]
    }
   ],
   "source": [
    "# 구의 부피 계산\n",
    "r = float(input(\"반지름 입력하세요: \"))\n",
    "\n",
    "# 구의 부피 공식\n",
    "volume = (4.0/3.0) * 3.141592 * r**3\n",
    "\n",
    "# 구의 부피를 화면에 출력\n",
    "print(\"구의 부피 =%10.2f\" % volume)"
   ]
  }
 ],
 "metadata": {
  "kernelspec": {
   "display_name": "Python 3 (ipykernel)",
   "language": "python",
   "name": "python3"
  },
  "language_info": {
   "codemirror_mode": {
    "name": "ipython",
    "version": 3
   },
   "file_extension": ".py",
   "mimetype": "text/x-python",
   "name": "python",
   "nbconvert_exporter": "python",
   "pygments_lexer": "ipython3",
   "version": "3.9.12"
  }
 },
 "nbformat": 4,
 "nbformat_minor": 5
}
